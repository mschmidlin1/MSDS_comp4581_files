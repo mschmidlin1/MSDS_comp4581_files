{
 "cells": [
  {
   "cell_type": "code",
   "execution_count": 42,
   "metadata": {},
   "outputs": [],
   "source": [
    "from swp import *\n",
    "from collections import defaultdict\n",
    "from collections import namedtuple\n",
    "import matplotlib.pyplot as plt"
   ]
  },
  {
   "cell_type": "code",
   "execution_count": 34,
   "metadata": {},
   "outputs": [],
   "source": [
    "with open(\"edges.txt\") as f:\n",
    "    lines = f.readlines()\n",
    "edges = []\n",
    "adjacency_list = defaultdict(list)\n",
    "for line in lines:\n",
    "    verts = line.split()\n",
    "    if len(verts)!=2:\n",
    "        raise ValueError(\"Edge cannot have more or less than vertices.\")\n",
    "    verts = int(verts[0]), int(verts[1])\n",
    "    adjacency_list[verts[0]].append(verts[1])\n",
    "    adjacency_list[verts[1]].append(verts[0])\n",
    "    edges.append(verts)\n",
    "# return (edges, d)"
   ]
  },
  {
   "cell_type": "code",
   "execution_count": 38,
   "metadata": {},
   "outputs": [],
   "source": [
    "q = MyQueue()\n",
    "s = 100\n",
    "q.enqueue(s)\n",
    "unique_verts = list(adjacency_list.keys())\n",
    "vertex_attributes = defaultdict(list,{ k:[] for k in unique_verts }) #for tracking discovery status, distance from source, predecessor vertex\n",
    "visited = set()\n",
    "vertex_distances = {}\n",
    "vertex_distances[s] = 0\n"
   ]
  },
  {
   "cell_type": "code",
   "execution_count": 39,
   "metadata": {},
   "outputs": [],
   "source": [
    "while not q.empty():\n",
    "    vertex = q.dequeue()\n",
    "    visited.add(vertex)\n",
    "    for i in adjacency_list[vertex]:\n",
    "        if i not in visited:\n",
    "            q.enqueue(i)\n",
    "            vertex_distances[i] = vertex_distances[vertex] + 1"
   ]
  },
  {
   "cell_type": "code",
   "execution_count": 44,
   "metadata": {},
   "outputs": [
    {
     "data": {
      "text/plain": [
       "(array([ 906., 1217.,  688.,  678.,  175.,   89.,  124.,   90.,   40.,\n",
       "          32.]),\n",
       " array([  0. ,  12.9,  25.8,  38.7,  51.6,  64.5,  77.4,  90.3, 103.2,\n",
       "        116.1, 129. ]),\n",
       " <BarContainer object of 10 artists>)"
      ]
     },
     "execution_count": 44,
     "metadata": {},
     "output_type": "execute_result"
    },
    {
     "data": {
      "image/png": "[encoded data removed]",
      "text/plain": [
       "<Figure size 432x288 with 1 Axes>"
      ]
     },
     "metadata": {
      "needs_background": "light"
     },
     "output_type": "display_data"
    }
   ],
   "source": [
    "plt.hist(vertex_distances.values())"
   ]
  },
  {
   "cell_type": "code",
   "execution_count": null,
   "metadata": {},
   "outputs": [],
   "source": []
  },
  {
   "cell_type": "code",
   "execution_count": null,
   "metadata": {},
   "outputs": [],
   "source": []
  }
 ],
 "metadata": {
  "kernelspec": {
   "display_name": "Python 3.8.8 ('base')",
   "language": "python",
   "name": "python3"
  },
  "language_info": {
   "codemirror_mode": {
    "name": "ipython",
    "version": 3
   },
   "file_extension": ".py",
   "mimetype": "text/x-python",
   "name": "python",
   "nbconvert_exporter": "python",
   "pygments_lexer": "ipython3",
   "version": "3.8.8"
  },
  "orig_nbformat": 4,
  "vscode": {
   "interpreter": {
    "hash": "ad2bdc8ecc057115af97d19610ffacc2b4e99fae6737bb82f5d7fb13d2f2c186"
   }
  }
 },
 "nbformat": 4,
 "nbformat_minor": 2
}
