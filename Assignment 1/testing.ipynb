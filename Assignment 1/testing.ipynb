{
 "cells": [
  {
   "cell_type": "code",
   "execution_count": 2,
   "metadata": {},
   "outputs": [],
   "source": [
    "from swp import *\n",
    "from collections import defaultdict\n",
    "from collections import namedtuple\n",
    "import matplotlib.pyplot as plt\n",
    "import numpy as np"
   ]
  },
  {
   "cell_type": "code",
   "execution_count": null,
   "metadata": {},
   "outputs": [],
   "source": [
    "with open(\"edges.txt\") as f:\n",
    "    lines = f.readlines()\n",
    "edges = []\n",
    "adjacency_list = defaultdict(list)\n",
    "for line in lines:\n",
    "    verts = line.split()\n",
    "    if len(verts)!=2:\n",
    "        raise ValueError(\"Edge cannot have more or less than vertices.\")\n",
    "    verts = int(verts[0]), int(verts[1])\n",
    "    adjacency_list[verts[0]].append(verts[1])\n",
    "    adjacency_list[verts[1]].append(verts[0])\n",
    "    edges.append(verts)\n",
    "# return (edges, d)"
   ]
  },
  {
   "cell_type": "code",
   "execution_count": null,
   "metadata": {},
   "outputs": [],
   "source": [
    "q = MyQueue()\n",
    "s = 100\n",
    "q.enqueue(s)\n",
    "# unique_verts = list(adjacency_list.keys())\n",
    "# vertex_attributes = defaultdict(list,{ k:[] for k in unique_verts }) #for tracking discovery status, distance from source, predecessor vertex\n",
    "visited = set()\n",
    "vertex_distances = {}\n",
    "vertex_distances[s] = 0\n"
   ]
  },
  {
   "cell_type": "code",
   "execution_count": null,
   "metadata": {},
   "outputs": [],
   "source": [
    "while not q.empty():\n",
    "    vertex = q.dequeue()\n",
    "    visited.add(vertex)\n",
    "    for i in adjacency_list[vertex]:\n",
    "        if i not in visited:\n",
    "            q.enqueue(i)\n",
    "            vertex_distances[i] = vertex_distances[vertex] + 1"
   ]
  },
  {
   "cell_type": "code",
   "execution_count": null,
   "metadata": {},
   "outputs": [],
   "source": [
    "G=adjacency_list"
   ]
  },
  {
   "cell_type": "code",
   "execution_count": null,
   "metadata": {},
   "outputs": [],
   "source": [
    "unique_verts = set(G.keys())"
   ]
  },
  {
   "cell_type": "code",
   "execution_count": null,
   "metadata": {},
   "outputs": [],
   "source": [
    "dists=np.array([])\n",
    "for s in unique_verts:\n",
    "    vertex_distances = BFS(G, s)\n",
    "    verts_dists = sorted(vertex_distances.items())\n",
    "    dists = np.append(dists, np.array(verts_dists)[:, 1])\n",
    "uniques = np.unique(dists, return_counts=True)[0]\n",
    "counts = np.unique(dists, return_counts=True)[1]\n",
    "percent_frequencies = counts*100/np.sum(counts)\n",
    "freq_dict = { u:[p] for u, p in zip(uniques, percent_frequencies) }"
   ]
  },
  {
   "cell_type": "code",
   "execution_count": null,
   "metadata": {},
   "outputs": [],
   "source": []
  },
  {
   "cell_type": "code",
   "execution_count": null,
   "metadata": {},
   "outputs": [],
   "source": [
    "freq_dict"
   ]
  }
 ],
 "metadata": {
  "kernelspec": {
   "display_name": "Python 3.8.8 ('base')",
   "language": "python",
   "name": "python3"
  },
  "language_info": {
   "codemirror_mode": {
    "name": "ipython",
    "version": 3
   },
   "file_extension": ".py",
   "mimetype": "text/x-python",
   "name": "python",
   "nbconvert_exporter": "python",
   "pygments_lexer": "ipython3",
   "version": "3.8.8"
  },
  "orig_nbformat": 4,
  "vscode": {
   "interpreter": {
    "hash": "ad2bdc8ecc057115af97d19610ffacc2b4e99fae6737bb82f5d7fb13d2f2c186"
   }
  }
 },
 "nbformat": 4,
 "nbformat_minor": 2
}
